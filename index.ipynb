{
 "cells": [
  {
   "cell_type": "markdown",
   "metadata": {},
   "source": [
    "# NGC 6397\n",
    "\n",
    "![](screenshotmuse.png)"
   ]
  },
  {
   "cell_type": "markdown",
   "metadata": {},
   "source": [
    "## Sources\n",
    "\n",
    "- [U12](U12.ipynb)\n",
    "- [U17](U17.ipynb)\n",
    "- [U10](U10.ipynb)\n",
    "- [U18](U18.ipynb)\n",
    "- [U19](U19.ipynb)\n",
    "- [U21](U21.ipynb)\n",
    "- [U22](U22.ipynb)\n",
    "- [U23](U23.ipynb)"
   ]
  }
 ],
 "metadata": {
  "hide_input": false,
  "kernelspec": {
   "display_name": "Python 3",
   "language": "python",
   "name": "python3"
  },
  "language_info": {
   "codemirror_mode": {
    "name": "ipython",
    "version": 3
   },
   "file_extension": ".py",
   "mimetype": "text/x-python",
   "name": "python",
   "nbconvert_exporter": "python",
   "pygments_lexer": "ipython3",
   "version": "3.7.1"
  }
 },
 "nbformat": 4,
 "nbformat_minor": 2
}
